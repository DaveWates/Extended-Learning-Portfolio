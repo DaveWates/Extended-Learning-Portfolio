{
  "nbformat": 4,
  "nbformat_minor": 0,
  "metadata": {
    "colab": {
      "name": "Question3.ipynb",
      "provenance": [],
      "collapsed_sections": [],
      "authorship_tag": "ABX9TyM+UTFL+02nfrkD5eqkEgtS",
      "include_colab_link": true
    },
    "kernelspec": {
      "name": "python3",
      "display_name": "Python 3"
    },
    "language_info": {
      "name": "python"
    }
  },
  "cells": [
    {
      "cell_type": "markdown",
      "metadata": {
        "id": "view-in-github",
        "colab_type": "text"
      },
      "source": [
        "<a href=\"https://colab.research.google.com/github/DaveWates/Extended-Learning-Portfolio/blob/main/Question3.ipynb\" target=\"_parent\"><img src=\"https://colab.research.google.com/assets/colab-badge.svg\" alt=\"Open In Colab\"/></a>"
      ]
    },
    {
      "cell_type": "code",
      "metadata": {
        "colab": {
          "base_uri": "https://localhost:8080/",
          "height": 130
        },
        "id": "yWS1IzUj4fIz",
        "outputId": "48fc05bb-d2ae-4389-9a7f-bc32f443bfc7"
      },
      "source": [
        "def efficiency(dist, gas)\n",
        "    return dist/gas\n",
        "km = input (\"How far did your car travel? (In kilometers?) )\n",
        "liters = input (\"How much gas did you use? (In liters?)\"\n",
        "\n",
        "MPG = efficiency(dist_traveled, Liters) \n",
        "print(MPG)"
      ],
      "execution_count": 3,
      "outputs": [
        {
          "output_type": "error",
          "ename": "SyntaxError",
          "evalue": "ignored",
          "traceback": [
            "\u001b[0;36m  File \u001b[0;32m\"<ipython-input-3-841949669a88>\"\u001b[0;36m, line \u001b[0;32m5\u001b[0m\n\u001b[0;31m    MPG = efficiency(dist_traveled, Liters) print MPG\u001b[0m\n\u001b[0m      ^\u001b[0m\n\u001b[0;31mSyntaxError\u001b[0m\u001b[0;31m:\u001b[0m invalid syntax\n"
          ]
        }
      ]
    },
    {
      "cell_type": "code",
      "metadata": {
        "colab": {
          "base_uri": "https://localhost:8080/"
        },
        "id": "RWmsmIxk5R2_",
        "outputId": "e661904e-a12d-44d0-a5bb-27024c1d9bb2"
      },
      "source": [
        "km = input(\"How far did your car travel In kilometers? \")\n",
        "ml = (int(km) * 0.62)\n",
        "liters = input(\"How much gas did you use In liters? \")\n",
        "Gl = (int(liters) * 0.26)\n",
        "MPG = float(ml)/float(Gl)\n",
        "print(\"Your fuel efficiency in MPG is\", round(MPG, 2))"
      ],
      "execution_count": 40,
      "outputs": [
        {
          "output_type": "stream",
          "name": "stdout",
          "text": [
            "How far did your car travel In kilometers? 800\n",
            "How much gas did you use In liters? 50\n",
            "Your fuel efficiency in MPG is 38.15\n"
          ]
        }
      ]
    },
    {
      "cell_type": "code",
      "metadata": {
        "colab": {
          "base_uri": "https://localhost:8080/"
        },
        "id": "1IuSkg1n8vzY",
        "outputId": "e5ae029a-dd17-4967-eb30-f7f2ad1c5741"
      },
      "source": [
        "km = 800\n",
        "ml = (km * 0.62)\n",
        "print(ml)"
      ],
      "execution_count": 34,
      "outputs": [
        {
          "output_type": "stream",
          "name": "stdout",
          "text": [
            "496.0\n"
          ]
        }
      ]
    },
    {
      "cell_type": "code",
      "metadata": {
        "colab": {
          "base_uri": "https://localhost:8080/"
        },
        "id": "BcPXky2T800M",
        "outputId": "b5d3b938-0184-44eb-bf99-5d1a6e0db85f"
      },
      "source": [
        "liters = 50\n",
        "Gl = (liters * 0.26)\n",
        "print(Gl)"
      ],
      "execution_count": 31,
      "outputs": [
        {
          "output_type": "stream",
          "name": "stdout",
          "text": [
            "13.0\n"
          ]
        }
      ]
    }
  ]
}