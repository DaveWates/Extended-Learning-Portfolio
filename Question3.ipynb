{
  "nbformat": 4,
  "nbformat_minor": 0,
  "metadata": {
    "colab": {
      "name": "Question3.ipynb",
      "provenance": [],
      "collapsed_sections": [],
      "authorship_tag": "ABX9TyOohFNQ2WIJ09228j1rYeha",
      "include_colab_link": true
    },
    "kernelspec": {
      "name": "python3",
      "display_name": "Python 3"
    },
    "language_info": {
      "name": "python"
    }
  },
  "cells": [
    {
      "cell_type": "markdown",
      "metadata": {
        "id": "view-in-github",
        "colab_type": "text"
      },
      "source": [
        "<a href=\"https://colab.research.google.com/github/DaveWates/Extended-Learning-Portfolio/blob/main/Question3.ipynb\" target=\"_parent\"><img src=\"https://colab.research.google.com/assets/colab-badge.svg\" alt=\"Open In Colab\"/></a>"
      ]
    },
    {
      "cell_type": "code",
      "metadata": {
        "colab": {
          "base_uri": "https://localhost:8080/",
          "height": 130
        },
        "id": "yWS1IzUj4fIz",
        "outputId": "48fc05bb-d2ae-4389-9a7f-bc32f443bfc7"
      },
      "source": [
        "def efficiency(dist, gas)\n",
        "    return dist/gas\n",
        "km = input (\"How far did your car travel? (In kilometers?) )\n",
        "liters = input (\"How much gas did you use? (In liters?)\"\n",
        "\n",
        "MPG = efficiency(dist_traveled, Liters) \n",
        "print(MPG)"
      ],
      "execution_count": null,
      "outputs": [
        {
          "output_type": "error",
          "ename": "SyntaxError",
          "evalue": "ignored",
          "traceback": [
            "\u001b[0;36m  File \u001b[0;32m\"<ipython-input-3-841949669a88>\"\u001b[0;36m, line \u001b[0;32m5\u001b[0m\n\u001b[0;31m    MPG = efficiency(dist_traveled, Liters) print MPG\u001b[0m\n\u001b[0m      ^\u001b[0m\n\u001b[0;31mSyntaxError\u001b[0m\u001b[0;31m:\u001b[0m invalid syntax\n"
          ]
        }
      ]
    },
    {
      "cell_type": "markdown",
      "metadata": {
        "id": "yXFbJes4wvGI"
      },
      "source": [
        "***Problems/Errors in Code block:***\n",
        "\n",
        "1. No colon succedding function definition\n",
        "2. Incorrect format for \"input' questions and incorrectly included as part of function.\n",
        "3. Processing formula incorrect format.\n",
        "4. Efficiency defined as MPG, however using inputs of 'kilometers' and 'liters' instead of 'miles' and 'galoons'. Requires conversion.\n",
        "5. Usind the print function within the function rather than return.\n",
        "6. Incorrect argument provided in function definition.\n",
        "7. Data-type errors generated at processing stage, related to string format rather than float.\n"
      ]
    },
    {
      "cell_type": "code",
      "metadata": {
        "colab": {
          "base_uri": "https://localhost:8080/"
        },
        "id": "RWmsmIxk5R2_",
        "outputId": "087c0954-45ec-40bf-f2a9-b1fdab71b132"
      },
      "source": [
        "km = input(\"How far did your car travel In kilometers? \")\n",
        "ml = (int(km) * 0.62)\n",
        "liters = input(\"How much gas did you use In liters? \")\n",
        "Gl = (int(liters) * 0.26)\n",
        "MPG = float(ml)/float(Gl)\n",
        "print(\"Your fuel efficiency in MPG is\", round(MPG, 2))"
      ],
      "execution_count": 4,
      "outputs": [
        {
          "output_type": "stream",
          "name": "stdout",
          "text": [
            "How far did your car travel In kilometers? 1000\n",
            "How much gas did you use In liters? 50\n",
            "Your fuel efficiency in MPG is 47.69\n"
          ]
        }
      ]
    },
    {
      "cell_type": "code",
      "metadata": {
        "colab": {
          "base_uri": "https://localhost:8080/"
        },
        "id": "1IuSkg1n8vzY",
        "outputId": "e1da5ec4-7fa3-47bf-8960-699dcf8b5d9d"
      },
      "source": [
        "km = 1000\n",
        "ml = (km * 0.62)\n",
        "print(ml)"
      ],
      "execution_count": 5,
      "outputs": [
        {
          "output_type": "stream",
          "name": "stdout",
          "text": [
            "620.0\n"
          ]
        }
      ]
    },
    {
      "cell_type": "code",
      "metadata": {
        "colab": {
          "base_uri": "https://localhost:8080/"
        },
        "id": "BcPXky2T800M",
        "outputId": "a4af3322-e99c-4b86-fd53-b936dc9c80e8"
      },
      "source": [
        "liters = 50\n",
        "Gl = (liters * 0.26)\n",
        "print(Gl)"
      ],
      "execution_count": 6,
      "outputs": [
        {
          "output_type": "stream",
          "name": "stdout",
          "text": [
            "13.0\n"
          ]
        }
      ]
    },
    {
      "cell_type": "markdown",
      "metadata": {
        "id": "fs3S6C_cxk2T"
      },
      "source": [
        "***Develop function after correct operation of design confirmed:***\n",
        "\n"
      ]
    },
    {
      "cell_type": "code",
      "metadata": {
        "id": "1r0WGAt9wto6"
      },
      "source": [
        "def efficiency():\n",
        "  Gl = (int(liters) * 0.26)\n",
        "  MPG = float(ml)/float(Gl)\n",
        "  return(round(MPG, 2))"
      ],
      "execution_count": 3,
      "outputs": []
    },
    {
      "cell_type": "code",
      "metadata": {
        "id": "flrspNmOyIUR"
      },
      "source": [
        ""
      ],
      "execution_count": null,
      "outputs": []
    }
  ]
}