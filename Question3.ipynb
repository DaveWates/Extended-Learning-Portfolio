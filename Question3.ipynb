{
  "nbformat": 4,
  "nbformat_minor": 0,
  "metadata": {
    "colab": {
      "name": "Question3.ipynb",
      "provenance": [],
      "collapsed_sections": [],
      "authorship_tag": "ABX9TyOhtu9GyPnLhLRVL85Njzjs",
      "include_colab_link": true
    },
    "kernelspec": {
      "name": "python3",
      "display_name": "Python 3"
    },
    "language_info": {
      "name": "python"
    }
  },
  "cells": [
    {
      "cell_type": "markdown",
      "metadata": {
        "id": "view-in-github",
        "colab_type": "text"
      },
      "source": [
        "<a href=\"https://colab.research.google.com/github/DaveWates/Extended-Learning-Portfolio/blob/main/Question3.ipynb\" target=\"_parent\"><img src=\"https://colab.research.google.com/assets/colab-badge.svg\" alt=\"Open In Colab\"/></a>"
      ]
    },
    {
      "cell_type": "markdown",
      "metadata": {
        "id": "9qJsfnIE2DTs"
      },
      "source": [
        "**Queston 3: In computer programming there are three kinds of errors: syntax errors, runtime errors, and logic errors. The code fragment below is meant to calculate a car’s fuel economy after reading in the distance travelled and amount of petrol used. The fuel economy is calculated by the following formula: kmPerLitre = kilometers / litres. The code fragment contains both syntax and logic errors. Identify and correct at least five errors in the following code.**\n"
      ]
    },
    {
      "cell_type": "code",
      "metadata": {
        "colab": {
          "base_uri": "https://localhost:8080/",
          "height": 130
        },
        "id": "yWS1IzUj4fIz",
        "outputId": "96d51d74-d2e8-4ef3-db94-97af1cd983ed"
      },
      "source": [
        "def efficiency(dist, gas)\n",
        "    return dist/gas\n",
        "km = input (\"How far did your car travel? (In kilometers?) )\n",
        "litre = input (\"How much gas did you use? (In litres?)\"\n",
        "\n",
        "MPG = efficiency(dist_traveled, Liters) \n",
        "print(MPG)"
      ],
      "execution_count": 19,
      "outputs": [
        {
          "output_type": "error",
          "ename": "SyntaxError",
          "evalue": "ignored",
          "traceback": [
            "\u001b[0;36m  File \u001b[0;32m\"<ipython-input-19-427a9d773421>\"\u001b[0;36m, line \u001b[0;32m1\u001b[0m\n\u001b[0;31m    def efficiency(dist, gas)\u001b[0m\n\u001b[0m                             ^\u001b[0m\n\u001b[0;31mSyntaxError\u001b[0m\u001b[0;31m:\u001b[0m invalid syntax\n"
          ]
        }
      ]
    },
    {
      "cell_type": "markdown",
      "metadata": {
        "id": "yXFbJes4wvGI"
      },
      "source": [
        "***Problems/Errors in Code block:***\n",
        "\n",
        "1. No colon succedding function definition\n",
        "2. Incorrect format for \"input' questions and incorrectly included as part of function.\n",
        "3. Processing formula incorrect format.\n",
        "4. Efficiency defined as MPG, however using inputs of 'kilometers' and 'liters' instead of 'miles' and 'galoons'. Requires conversion.\n",
        "5. Usind the print function within the function rather that return.\n",
        "6. Incorrect argument provided in function definition.\n",
        "7. Data-type errors generated at processing stage, related to string format rather than float. Requires conversion.\n",
        "8. Aesthetically, incorporating a rounding funcntion to limit decimal places to 2.\n"
      ]
    },
    {
      "cell_type": "code",
      "metadata": {
        "colab": {
          "base_uri": "https://localhost:8080/"
        },
        "id": "RWmsmIxk5R2_",
        "outputId": "27e96b68-fc90-4e8e-ab3e-8977042a2373"
      },
      "source": [
        "km = input(\"How far did your car travel In kilometers? \")\n",
        "ml = (int(km) * 0.62)\n",
        "litres = input(\"How much gas did you use In liters? \")\n",
        "Gl = (int(litres) * 0.26)\n",
        "MPG = float(ml)/float(Gl)\n",
        "print(\"Your fuel efficiency in MPG is\", round(MPG, 2))"
      ],
      "execution_count": 20,
      "outputs": [
        {
          "output_type": "stream",
          "name": "stdout",
          "text": [
            "How far did your car travel In kilometers? 1000\n",
            "How much gas did you use In liters? 50\n",
            "Your fuel efficiency in MPG is 47.69\n"
          ]
        }
      ]
    },
    {
      "cell_type": "markdown",
      "metadata": {
        "id": "QM9eZXEy2CQh"
      },
      "source": [
        ""
      ]
    },
    {
      "cell_type": "code",
      "metadata": {
        "colab": {
          "base_uri": "https://localhost:8080/"
        },
        "id": "1IuSkg1n8vzY",
        "outputId": "2ffbc582-c461-402e-f5a4-219f7c39b771"
      },
      "source": [
        "km = 1000\n",
        "ml = (km * 0.62)\n",
        "print(ml)"
      ],
      "execution_count": 21,
      "outputs": [
        {
          "output_type": "stream",
          "name": "stdout",
          "text": [
            "620.0\n"
          ]
        }
      ]
    },
    {
      "cell_type": "code",
      "metadata": {
        "colab": {
          "base_uri": "https://localhost:8080/"
        },
        "id": "BcPXky2T800M",
        "outputId": "7948a43a-6819-4d7b-c2a6-471937d43058"
      },
      "source": [
        "litres = 50\n",
        "Gl = (litres * 0.26)\n",
        "print(Gl)"
      ],
      "execution_count": 22,
      "outputs": [
        {
          "output_type": "stream",
          "name": "stdout",
          "text": [
            "13.0\n"
          ]
        }
      ]
    },
    {
      "cell_type": "markdown",
      "metadata": {
        "id": "fs3S6C_cxk2T"
      },
      "source": [
        "***Develop function after correct operation of design confirmed:***\n",
        "\n"
      ]
    },
    {
      "cell_type": "code",
      "metadata": {
        "id": "1r0WGAt9wto6"
      },
      "source": [
        "def efficiency():\n",
        "  ml = (int(km) * 0.62)\n",
        "  Gl = (int(litres) * 0.26)\n",
        "  MPG = float(ml)/float(Gl)\n",
        "  return(round(MPG, 2))"
      ],
      "execution_count": 23,
      "outputs": []
    },
    {
      "cell_type": "markdown",
      "metadata": {
        "id": "XVqARwo758tr"
      },
      "source": [
        "***Test the function for correct operation:***"
      ]
    },
    {
      "cell_type": "code",
      "metadata": {
        "id": "54rPb8gf3h5M"
      },
      "source": [
        "def efficiency(km,litres):\n",
        "  ml = (int(km) * 0.62)\n",
        "  Gl = (int(litres) * 0.26)\n",
        "  MPG = float(ml)/float(Gl)\n",
        "  return(round(MPG, 2))"
      ],
      "execution_count": 24,
      "outputs": []
    },
    {
      "cell_type": "code",
      "metadata": {
        "id": "flrspNmOyIUR",
        "colab": {
          "base_uri": "https://localhost:8080/"
        },
        "outputId": "824422be-cc37-4cc8-8912-629579e6097a"
      },
      "source": [
        "km = input(\"How far did your car travel In kilometers? \")\n",
        "litres =input(\"How much gas did you use In liters? \")\n",
        "Efficiency = efficiency(km,litres)\n",
        "\n",
        "print(\"Your fuel efficiency in MPG is\", Efficiency)"
      ],
      "execution_count": 25,
      "outputs": [
        {
          "output_type": "stream",
          "name": "stdout",
          "text": [
            "How far did your car travel In kilometers? 1000\n",
            "How much gas did you use In liters? 50\n",
            "Your fuel efficiency in MPG is 47.69\n"
          ]
        }
      ]
    }
  ]
}