{
  "nbformat": 4,
  "nbformat_minor": 0,
  "metadata": {
    "colab": {
      "name": "Question4.ipynb",
      "provenance": [],
      "collapsed_sections": [],
      "authorship_tag": "ABX9TyPfswz+NCQqq9ney/DmLC52",
      "include_colab_link": true
    },
    "kernelspec": {
      "name": "python3",
      "display_name": "Python 3"
    },
    "language_info": {
      "name": "python"
    }
  },
  "cells": [
    {
      "cell_type": "markdown",
      "metadata": {
        "id": "view-in-github",
        "colab_type": "text"
      },
      "source": [
        "<a href=\"https://colab.research.google.com/github/DaveWates/Extended-Learning-Portfolio/blob/main/Question4.ipynb\" target=\"_parent\"><img src=\"https://colab.research.google.com/assets/colab-badge.svg\" alt=\"Open In Colab\"/></a>"
      ]
    },
    {
      "cell_type": "code",
      "metadata": {
        "id": "IowR0j3bKNU3"
      },
      "source": [
        "import matplotlib.pyplot as plt\n",
        "import csv"
      ],
      "execution_count": 1,
      "outputs": []
    },
    {
      "cell_type": "code",
      "metadata": {
        "id": "zT11qziMRBWB"
      },
      "source": [
        "import pandas as pd\n",
        "import numpy as np\n"
      ],
      "execution_count": 2,
      "outputs": []
    },
    {
      "cell_type": "code",
      "metadata": {
        "colab": {
          "base_uri": "https://localhost:8080/",
          "height": 728
        },
        "id": "E_fcRiO4RGRF",
        "outputId": "7cea0b74-3b76-438b-cf87-bb67b22a4d94"
      },
      "source": [
        "df = pd.read_csv(\"sales.csv\")\n",
        "df"
      ],
      "execution_count": 3,
      "outputs": [
        {
          "output_type": "execute_result",
          "data": {
            "text/html": [
              "<div>\n",
              "<style scoped>\n",
              "    .dataframe tbody tr th:only-of-type {\n",
              "        vertical-align: middle;\n",
              "    }\n",
              "\n",
              "    .dataframe tbody tr th {\n",
              "        vertical-align: top;\n",
              "    }\n",
              "\n",
              "    .dataframe thead th {\n",
              "        text-align: right;\n",
              "    }\n",
              "</style>\n",
              "<table border=\"1\" class=\"dataframe\">\n",
              "  <thead>\n",
              "    <tr style=\"text-align: right;\">\n",
              "      <th></th>\n",
              "      <th>Region</th>\n",
              "      <th>Country</th>\n",
              "      <th>Item_Type</th>\n",
              "      <th>Sales_Channel</th>\n",
              "      <th>Order_Priority</th>\n",
              "      <th>Order_Date</th>\n",
              "      <th>Order_ID</th>\n",
              "      <th>Ship_Date</th>\n",
              "      <th>Units_Sold</th>\n",
              "      <th>Unit_Price</th>\n",
              "      <th>Unit_Cost</th>\n",
              "      <th>Total_Revenue</th>\n",
              "      <th>Total_Cost</th>\n",
              "      <th>Total_Profit</th>\n",
              "    </tr>\n",
              "  </thead>\n",
              "  <tbody>\n",
              "    <tr>\n",
              "      <th>0</th>\n",
              "      <td>Australia and Oceania</td>\n",
              "      <td>Tuvalu</td>\n",
              "      <td>Baby Food</td>\n",
              "      <td>Offline</td>\n",
              "      <td>H</td>\n",
              "      <td>5/28/2010</td>\n",
              "      <td>669165933</td>\n",
              "      <td>6/27/2010</td>\n",
              "      <td>9925</td>\n",
              "      <td>255.28</td>\n",
              "      <td>159.42</td>\n",
              "      <td>2533654.00</td>\n",
              "      <td>1582243.50</td>\n",
              "      <td>951410.50</td>\n",
              "    </tr>\n",
              "    <tr>\n",
              "      <th>1</th>\n",
              "      <td>Central America and the Caribbean</td>\n",
              "      <td>Grenada</td>\n",
              "      <td>Cereal</td>\n",
              "      <td>Online</td>\n",
              "      <td>C</td>\n",
              "      <td>8/22/2012</td>\n",
              "      <td>963881480</td>\n",
              "      <td>9/15/2012</td>\n",
              "      <td>2804</td>\n",
              "      <td>205.70</td>\n",
              "      <td>117.11</td>\n",
              "      <td>576782.80</td>\n",
              "      <td>328376.44</td>\n",
              "      <td>248406.36</td>\n",
              "    </tr>\n",
              "    <tr>\n",
              "      <th>2</th>\n",
              "      <td>Europe</td>\n",
              "      <td>Russia</td>\n",
              "      <td>Office Supplies</td>\n",
              "      <td>Offline</td>\n",
              "      <td>L</td>\n",
              "      <td>5/2/14</td>\n",
              "      <td>341417157</td>\n",
              "      <td>5/8/14</td>\n",
              "      <td>1779</td>\n",
              "      <td>651.21</td>\n",
              "      <td>524.96</td>\n",
              "      <td>1158502.59</td>\n",
              "      <td>933903.84</td>\n",
              "      <td>224598.75</td>\n",
              "    </tr>\n",
              "    <tr>\n",
              "      <th>3</th>\n",
              "      <td>Sub-Saharan Africa</td>\n",
              "      <td>Sao Tome and Principe</td>\n",
              "      <td>Fruits</td>\n",
              "      <td>Online</td>\n",
              "      <td>C</td>\n",
              "      <td>6/20/2014</td>\n",
              "      <td>514321792</td>\n",
              "      <td>7/5/14</td>\n",
              "      <td>8102</td>\n",
              "      <td>9.33</td>\n",
              "      <td>6.92</td>\n",
              "      <td>75591.66</td>\n",
              "      <td>56065.84</td>\n",
              "      <td>19525.82</td>\n",
              "    </tr>\n",
              "    <tr>\n",
              "      <th>4</th>\n",
              "      <td>Sub-Saharan Africa</td>\n",
              "      <td>Rwanda</td>\n",
              "      <td>Office Supplies</td>\n",
              "      <td>Offline</td>\n",
              "      <td>L</td>\n",
              "      <td>2/1/13</td>\n",
              "      <td>115456712</td>\n",
              "      <td>2/6/13</td>\n",
              "      <td>5062</td>\n",
              "      <td>651.21</td>\n",
              "      <td>524.96</td>\n",
              "      <td>3296425.02</td>\n",
              "      <td>2657347.52</td>\n",
              "      <td>639077.50</td>\n",
              "    </tr>\n",
              "    <tr>\n",
              "      <th>...</th>\n",
              "      <td>...</td>\n",
              "      <td>...</td>\n",
              "      <td>...</td>\n",
              "      <td>...</td>\n",
              "      <td>...</td>\n",
              "      <td>...</td>\n",
              "      <td>...</td>\n",
              "      <td>...</td>\n",
              "      <td>...</td>\n",
              "      <td>...</td>\n",
              "      <td>...</td>\n",
              "      <td>...</td>\n",
              "      <td>...</td>\n",
              "      <td>...</td>\n",
              "    </tr>\n",
              "    <tr>\n",
              "      <th>95</th>\n",
              "      <td>Sub-Saharan Africa</td>\n",
              "      <td>Mali</td>\n",
              "      <td>Clothes</td>\n",
              "      <td>Online</td>\n",
              "      <td>M</td>\n",
              "      <td>7/26/2011</td>\n",
              "      <td>512878119</td>\n",
              "      <td>9/3/11</td>\n",
              "      <td>888</td>\n",
              "      <td>109.28</td>\n",
              "      <td>35.84</td>\n",
              "      <td>97040.64</td>\n",
              "      <td>31825.92</td>\n",
              "      <td>65214.72</td>\n",
              "    </tr>\n",
              "    <tr>\n",
              "      <th>96</th>\n",
              "      <td>Asia</td>\n",
              "      <td>Malaysia</td>\n",
              "      <td>Fruits</td>\n",
              "      <td>Offline</td>\n",
              "      <td>L</td>\n",
              "      <td>11/11/11</td>\n",
              "      <td>810711038</td>\n",
              "      <td>12/28/2011</td>\n",
              "      <td>6267</td>\n",
              "      <td>9.33</td>\n",
              "      <td>6.92</td>\n",
              "      <td>58471.11</td>\n",
              "      <td>43367.64</td>\n",
              "      <td>15103.47</td>\n",
              "    </tr>\n",
              "    <tr>\n",
              "      <th>97</th>\n",
              "      <td>Sub-Saharan Africa</td>\n",
              "      <td>Sierra Leone</td>\n",
              "      <td>Vegetables</td>\n",
              "      <td>Offline</td>\n",
              "      <td>C</td>\n",
              "      <td>6/1/16</td>\n",
              "      <td>728815257</td>\n",
              "      <td>6/29/2016</td>\n",
              "      <td>1485</td>\n",
              "      <td>154.06</td>\n",
              "      <td>90.93</td>\n",
              "      <td>228779.10</td>\n",
              "      <td>135031.05</td>\n",
              "      <td>93748.05</td>\n",
              "    </tr>\n",
              "    <tr>\n",
              "      <th>98</th>\n",
              "      <td>North America</td>\n",
              "      <td>Mexico</td>\n",
              "      <td>Personal Care</td>\n",
              "      <td>Offline</td>\n",
              "      <td>M</td>\n",
              "      <td>7/30/2015</td>\n",
              "      <td>559427106</td>\n",
              "      <td>8/8/15</td>\n",
              "      <td>5767</td>\n",
              "      <td>81.73</td>\n",
              "      <td>56.67</td>\n",
              "      <td>471336.91</td>\n",
              "      <td>326815.89</td>\n",
              "      <td>144521.02</td>\n",
              "    </tr>\n",
              "    <tr>\n",
              "      <th>99</th>\n",
              "      <td>Sub-Saharan Africa</td>\n",
              "      <td>Mozambique</td>\n",
              "      <td>Household</td>\n",
              "      <td>Offline</td>\n",
              "      <td>L</td>\n",
              "      <td>2/10/12</td>\n",
              "      <td>665095412</td>\n",
              "      <td>2/15/2012</td>\n",
              "      <td>5367</td>\n",
              "      <td>668.27</td>\n",
              "      <td>502.54</td>\n",
              "      <td>3586605.09</td>\n",
              "      <td>2697132.18</td>\n",
              "      <td>889472.91</td>\n",
              "    </tr>\n",
              "  </tbody>\n",
              "</table>\n",
              "<p>100 rows × 14 columns</p>\n",
              "</div>"
            ],
            "text/plain": [
              "                               Region  ... Total_Profit\n",
              "0               Australia and Oceania  ...    951410.50\n",
              "1   Central America and the Caribbean  ...    248406.36\n",
              "2                              Europe  ...    224598.75\n",
              "3                  Sub-Saharan Africa  ...     19525.82\n",
              "4                  Sub-Saharan Africa  ...    639077.50\n",
              "..                                ...  ...          ...\n",
              "95                 Sub-Saharan Africa  ...     65214.72\n",
              "96                               Asia  ...     15103.47\n",
              "97                 Sub-Saharan Africa  ...     93748.05\n",
              "98                      North America  ...    144521.02\n",
              "99                 Sub-Saharan Africa  ...    889472.91\n",
              "\n",
              "[100 rows x 14 columns]"
            ]
          },
          "metadata": {},
          "execution_count": 3
        }
      ]
    },
    {
      "cell_type": "code",
      "metadata": {
        "colab": {
          "base_uri": "https://localhost:8080/"
        },
        "id": "g-MO3P8sGC6t",
        "outputId": "f3733165-3cf5-4cb3-e2de-a10b241b738f"
      },
      "source": [
        "df.Total_Profit"
      ],
      "execution_count": 4,
      "outputs": [
        {
          "output_type": "execute_result",
          "data": {
            "text/plain": [
              "0     951410.50\n",
              "1     248406.36\n",
              "2     224598.75\n",
              "3      19525.82\n",
              "4     639077.50\n",
              "        ...    \n",
              "95     65214.72\n",
              "96     15103.47\n",
              "97     93748.05\n",
              "98    144521.02\n",
              "99    889472.91\n",
              "Name: Total_Profit, Length: 100, dtype: float64"
            ]
          },
          "metadata": {},
          "execution_count": 4
        }
      ]
    },
    {
      "cell_type": "code",
      "metadata": {
        "id": "ANdfQjeehws1",
        "colab": {
          "base_uri": "https://localhost:8080/"
        },
        "outputId": "ad7b0c1d-3fc0-49d3-bd82-da18892f3fd7"
      },
      "source": [
        "print(df.iloc[91, :])"
      ],
      "execution_count": 5,
      "outputs": [
        {
          "output_type": "stream",
          "name": "stdout",
          "text": [
            "Region            Australia and Oceania\n",
            "Country                       Australia\n",
            "Item_Type                     Beverages\n",
            "Sales_Channel                   Offline\n",
            "Order_Priority                        H\n",
            "Order_Date                       7/7/14\n",
            "Order_ID                      240470397\n",
            "Ship_Date                       7/11/14\n",
            "Units_Sold                         9389\n",
            "Unit_Price                        47.45\n",
            "Unit_Cost                         31.79\n",
            "Total_Revenue                    445508\n",
            "Total_Cost                       298476\n",
            "Total_Profit                     147032\n",
            "Name: 91, dtype: object\n"
          ]
        }
      ]
    },
    {
      "cell_type": "code",
      "metadata": {
        "id": "BtZzXu3amF3V"
      },
      "source": [
        "df.set_index(\"Region\", inplace=True)"
      ],
      "execution_count": 6,
      "outputs": []
    },
    {
      "cell_type": "code",
      "metadata": {
        "id": "86kiwigpmRCl",
        "colab": {
          "base_uri": "https://localhost:8080/",
          "height": 759
        },
        "outputId": "5d3b4978-8c5e-4a08-b797-1204daa4acb1"
      },
      "source": [
        "df\n"
      ],
      "execution_count": 7,
      "outputs": [
        {
          "output_type": "execute_result",
          "data": {
            "text/html": [
              "<div>\n",
              "<style scoped>\n",
              "    .dataframe tbody tr th:only-of-type {\n",
              "        vertical-align: middle;\n",
              "    }\n",
              "\n",
              "    .dataframe tbody tr th {\n",
              "        vertical-align: top;\n",
              "    }\n",
              "\n",
              "    .dataframe thead th {\n",
              "        text-align: right;\n",
              "    }\n",
              "</style>\n",
              "<table border=\"1\" class=\"dataframe\">\n",
              "  <thead>\n",
              "    <tr style=\"text-align: right;\">\n",
              "      <th></th>\n",
              "      <th>Country</th>\n",
              "      <th>Item_Type</th>\n",
              "      <th>Sales_Channel</th>\n",
              "      <th>Order_Priority</th>\n",
              "      <th>Order_Date</th>\n",
              "      <th>Order_ID</th>\n",
              "      <th>Ship_Date</th>\n",
              "      <th>Units_Sold</th>\n",
              "      <th>Unit_Price</th>\n",
              "      <th>Unit_Cost</th>\n",
              "      <th>Total_Revenue</th>\n",
              "      <th>Total_Cost</th>\n",
              "      <th>Total_Profit</th>\n",
              "    </tr>\n",
              "    <tr>\n",
              "      <th>Region</th>\n",
              "      <th></th>\n",
              "      <th></th>\n",
              "      <th></th>\n",
              "      <th></th>\n",
              "      <th></th>\n",
              "      <th></th>\n",
              "      <th></th>\n",
              "      <th></th>\n",
              "      <th></th>\n",
              "      <th></th>\n",
              "      <th></th>\n",
              "      <th></th>\n",
              "      <th></th>\n",
              "    </tr>\n",
              "  </thead>\n",
              "  <tbody>\n",
              "    <tr>\n",
              "      <th>Australia and Oceania</th>\n",
              "      <td>Tuvalu</td>\n",
              "      <td>Baby Food</td>\n",
              "      <td>Offline</td>\n",
              "      <td>H</td>\n",
              "      <td>5/28/2010</td>\n",
              "      <td>669165933</td>\n",
              "      <td>6/27/2010</td>\n",
              "      <td>9925</td>\n",
              "      <td>255.28</td>\n",
              "      <td>159.42</td>\n",
              "      <td>2533654.00</td>\n",
              "      <td>1582243.50</td>\n",
              "      <td>951410.50</td>\n",
              "    </tr>\n",
              "    <tr>\n",
              "      <th>Central America and the Caribbean</th>\n",
              "      <td>Grenada</td>\n",
              "      <td>Cereal</td>\n",
              "      <td>Online</td>\n",
              "      <td>C</td>\n",
              "      <td>8/22/2012</td>\n",
              "      <td>963881480</td>\n",
              "      <td>9/15/2012</td>\n",
              "      <td>2804</td>\n",
              "      <td>205.70</td>\n",
              "      <td>117.11</td>\n",
              "      <td>576782.80</td>\n",
              "      <td>328376.44</td>\n",
              "      <td>248406.36</td>\n",
              "    </tr>\n",
              "    <tr>\n",
              "      <th>Europe</th>\n",
              "      <td>Russia</td>\n",
              "      <td>Office Supplies</td>\n",
              "      <td>Offline</td>\n",
              "      <td>L</td>\n",
              "      <td>5/2/14</td>\n",
              "      <td>341417157</td>\n",
              "      <td>5/8/14</td>\n",
              "      <td>1779</td>\n",
              "      <td>651.21</td>\n",
              "      <td>524.96</td>\n",
              "      <td>1158502.59</td>\n",
              "      <td>933903.84</td>\n",
              "      <td>224598.75</td>\n",
              "    </tr>\n",
              "    <tr>\n",
              "      <th>Sub-Saharan Africa</th>\n",
              "      <td>Sao Tome and Principe</td>\n",
              "      <td>Fruits</td>\n",
              "      <td>Online</td>\n",
              "      <td>C</td>\n",
              "      <td>6/20/2014</td>\n",
              "      <td>514321792</td>\n",
              "      <td>7/5/14</td>\n",
              "      <td>8102</td>\n",
              "      <td>9.33</td>\n",
              "      <td>6.92</td>\n",
              "      <td>75591.66</td>\n",
              "      <td>56065.84</td>\n",
              "      <td>19525.82</td>\n",
              "    </tr>\n",
              "    <tr>\n",
              "      <th>Sub-Saharan Africa</th>\n",
              "      <td>Rwanda</td>\n",
              "      <td>Office Supplies</td>\n",
              "      <td>Offline</td>\n",
              "      <td>L</td>\n",
              "      <td>2/1/13</td>\n",
              "      <td>115456712</td>\n",
              "      <td>2/6/13</td>\n",
              "      <td>5062</td>\n",
              "      <td>651.21</td>\n",
              "      <td>524.96</td>\n",
              "      <td>3296425.02</td>\n",
              "      <td>2657347.52</td>\n",
              "      <td>639077.50</td>\n",
              "    </tr>\n",
              "    <tr>\n",
              "      <th>...</th>\n",
              "      <td>...</td>\n",
              "      <td>...</td>\n",
              "      <td>...</td>\n",
              "      <td>...</td>\n",
              "      <td>...</td>\n",
              "      <td>...</td>\n",
              "      <td>...</td>\n",
              "      <td>...</td>\n",
              "      <td>...</td>\n",
              "      <td>...</td>\n",
              "      <td>...</td>\n",
              "      <td>...</td>\n",
              "      <td>...</td>\n",
              "    </tr>\n",
              "    <tr>\n",
              "      <th>Sub-Saharan Africa</th>\n",
              "      <td>Mali</td>\n",
              "      <td>Clothes</td>\n",
              "      <td>Online</td>\n",
              "      <td>M</td>\n",
              "      <td>7/26/2011</td>\n",
              "      <td>512878119</td>\n",
              "      <td>9/3/11</td>\n",
              "      <td>888</td>\n",
              "      <td>109.28</td>\n",
              "      <td>35.84</td>\n",
              "      <td>97040.64</td>\n",
              "      <td>31825.92</td>\n",
              "      <td>65214.72</td>\n",
              "    </tr>\n",
              "    <tr>\n",
              "      <th>Asia</th>\n",
              "      <td>Malaysia</td>\n",
              "      <td>Fruits</td>\n",
              "      <td>Offline</td>\n",
              "      <td>L</td>\n",
              "      <td>11/11/11</td>\n",
              "      <td>810711038</td>\n",
              "      <td>12/28/2011</td>\n",
              "      <td>6267</td>\n",
              "      <td>9.33</td>\n",
              "      <td>6.92</td>\n",
              "      <td>58471.11</td>\n",
              "      <td>43367.64</td>\n",
              "      <td>15103.47</td>\n",
              "    </tr>\n",
              "    <tr>\n",
              "      <th>Sub-Saharan Africa</th>\n",
              "      <td>Sierra Leone</td>\n",
              "      <td>Vegetables</td>\n",
              "      <td>Offline</td>\n",
              "      <td>C</td>\n",
              "      <td>6/1/16</td>\n",
              "      <td>728815257</td>\n",
              "      <td>6/29/2016</td>\n",
              "      <td>1485</td>\n",
              "      <td>154.06</td>\n",
              "      <td>90.93</td>\n",
              "      <td>228779.10</td>\n",
              "      <td>135031.05</td>\n",
              "      <td>93748.05</td>\n",
              "    </tr>\n",
              "    <tr>\n",
              "      <th>North America</th>\n",
              "      <td>Mexico</td>\n",
              "      <td>Personal Care</td>\n",
              "      <td>Offline</td>\n",
              "      <td>M</td>\n",
              "      <td>7/30/2015</td>\n",
              "      <td>559427106</td>\n",
              "      <td>8/8/15</td>\n",
              "      <td>5767</td>\n",
              "      <td>81.73</td>\n",
              "      <td>56.67</td>\n",
              "      <td>471336.91</td>\n",
              "      <td>326815.89</td>\n",
              "      <td>144521.02</td>\n",
              "    </tr>\n",
              "    <tr>\n",
              "      <th>Sub-Saharan Africa</th>\n",
              "      <td>Mozambique</td>\n",
              "      <td>Household</td>\n",
              "      <td>Offline</td>\n",
              "      <td>L</td>\n",
              "      <td>2/10/12</td>\n",
              "      <td>665095412</td>\n",
              "      <td>2/15/2012</td>\n",
              "      <td>5367</td>\n",
              "      <td>668.27</td>\n",
              "      <td>502.54</td>\n",
              "      <td>3586605.09</td>\n",
              "      <td>2697132.18</td>\n",
              "      <td>889472.91</td>\n",
              "    </tr>\n",
              "  </tbody>\n",
              "</table>\n",
              "<p>100 rows × 13 columns</p>\n",
              "</div>"
            ],
            "text/plain": [
              "                                                 Country  ... Total_Profit\n",
              "Region                                                    ...             \n",
              "Australia and Oceania                             Tuvalu  ...    951410.50\n",
              "Central America and the Caribbean                Grenada  ...    248406.36\n",
              "Europe                                            Russia  ...    224598.75\n",
              "Sub-Saharan Africa                 Sao Tome and Principe  ...     19525.82\n",
              "Sub-Saharan Africa                                Rwanda  ...    639077.50\n",
              "...                                                  ...  ...          ...\n",
              "Sub-Saharan Africa                                  Mali  ...     65214.72\n",
              "Asia                                            Malaysia  ...     15103.47\n",
              "Sub-Saharan Africa                          Sierra Leone  ...     93748.05\n",
              "North America                                     Mexico  ...    144521.02\n",
              "Sub-Saharan Africa                            Mozambique  ...    889472.91\n",
              "\n",
              "[100 rows x 13 columns]"
            ]
          },
          "metadata": {},
          "execution_count": 7
        }
      ]
    },
    {
      "cell_type": "code",
      "metadata": {
        "id": "LX6IXj7bmWwN",
        "colab": {
          "base_uri": "https://localhost:8080/"
        },
        "outputId": "f6aefb52-532c-4037-a2be-77de53cdec54"
      },
      "source": [
        "print(df.loc['Australia and Oceania'])"
      ],
      "execution_count": 8,
      "outputs": [
        {
          "output_type": "stream",
          "name": "stdout",
          "text": [
            "                                              Country  ... Total_Profit\n",
            "Region                                                 ...             \n",
            "Australia and Oceania                          Tuvalu  ...    951410.50\n",
            "Australia and Oceania                 Solomon Islands  ...    285087.64\n",
            "Australia and Oceania                      East Timor  ...    337937.60\n",
            "Australia and Oceania                     New Zealand  ...      5270.67\n",
            "Australia and Oceania                        Kiribati  ...     13009.18\n",
            "Australia and Oceania                       Australia  ...    369155.00\n",
            "Australia and Oceania                            Fiji  ...    727423.20\n",
            "Australia and Oceania                       Australia  ...     60418.38\n",
            "Australia and Oceania  Federated States of Micronesia  ...    146875.14\n",
            "Australia and Oceania                          Samoa   ...   1678540.98\n",
            "Australia and Oceania                       Australia  ...    147031.74\n",
            "\n",
            "[11 rows x 13 columns]\n"
          ]
        }
      ]
    },
    {
      "cell_type": "code",
      "metadata": {
        "id": "OJL5E28atYjk"
      },
      "source": [
        "data = (df.loc['Australia and Oceania'])"
      ],
      "execution_count": 9,
      "outputs": []
    },
    {
      "cell_type": "code",
      "metadata": {
        "id": "NMi6i8KQpvVa",
        "colab": {
          "base_uri": "https://localhost:8080/"
        },
        "outputId": "39c879af-bf4e-48ad-ca93-46b1eede97a6"
      },
      "source": [
        "print(data)"
      ],
      "execution_count": 10,
      "outputs": [
        {
          "output_type": "stream",
          "name": "stdout",
          "text": [
            "                                              Country  ... Total_Profit\n",
            "Region                                                 ...             \n",
            "Australia and Oceania                          Tuvalu  ...    951410.50\n",
            "Australia and Oceania                 Solomon Islands  ...    285087.64\n",
            "Australia and Oceania                      East Timor  ...    337937.60\n",
            "Australia and Oceania                     New Zealand  ...      5270.67\n",
            "Australia and Oceania                        Kiribati  ...     13009.18\n",
            "Australia and Oceania                       Australia  ...    369155.00\n",
            "Australia and Oceania                            Fiji  ...    727423.20\n",
            "Australia and Oceania                       Australia  ...     60418.38\n",
            "Australia and Oceania  Federated States of Micronesia  ...    146875.14\n",
            "Australia and Oceania                          Samoa   ...   1678540.98\n",
            "Australia and Oceania                       Australia  ...    147031.74\n",
            "\n",
            "[11 rows x 13 columns]\n"
          ]
        }
      ]
    },
    {
      "cell_type": "code",
      "metadata": {
        "id": "WYvGfIIOrvbd"
      },
      "source": [
        "data.to_csv('Australia and Oceania.csv')"
      ],
      "execution_count": 11,
      "outputs": []
    },
    {
      "cell_type": "code",
      "metadata": {
        "id": "lgmhmCwAsnT8"
      },
      "source": [
        "df = pd.read_csv('Australia and Oceania.csv')"
      ],
      "execution_count": 12,
      "outputs": []
    },
    {
      "cell_type": "code",
      "metadata": {
        "id": "WFa6Jeqbtw2e",
        "colab": {
          "base_uri": "https://localhost:8080/"
        },
        "outputId": "743c949f-67af-48ea-b09c-e9f55f06de05"
      },
      "source": [
        "df.Total_Profit"
      ],
      "execution_count": 13,
      "outputs": [
        {
          "output_type": "execute_result",
          "data": {
            "text/plain": [
              "0      951410.50\n",
              "1      285087.64\n",
              "2      337937.60\n",
              "3        5270.67\n",
              "4       13009.18\n",
              "5      369155.00\n",
              "6      727423.20\n",
              "7       60418.38\n",
              "8      146875.14\n",
              "9     1678540.98\n",
              "10     147031.74\n",
              "Name: Total_Profit, dtype: float64"
            ]
          },
          "metadata": {},
          "execution_count": 13
        }
      ]
    },
    {
      "cell_type": "code",
      "metadata": {
        "colab": {
          "base_uri": "https://localhost:8080/"
        },
        "id": "eFKSvAeS-rak",
        "outputId": "d539679b-5658-4d58-867d-bf7be460ddbe"
      },
      "source": [
        "data.columns"
      ],
      "execution_count": 14,
      "outputs": [
        {
          "output_type": "execute_result",
          "data": {
            "text/plain": [
              "Index(['Country', 'Item_Type', 'Sales_Channel', 'Order_Priority', 'Order_Date',\n",
              "       'Order_ID', 'Ship_Date', 'Units_Sold', 'Unit_Price', 'Unit_Cost',\n",
              "       'Total_Revenue', 'Total_Cost', 'Total_Profit'],\n",
              "      dtype='object')"
            ]
          },
          "metadata": {},
          "execution_count": 14
        }
      ]
    },
    {
      "cell_type": "code",
      "metadata": {
        "colab": {
          "base_uri": "https://localhost:8080/",
          "height": 784
        },
        "id": "m5y2k00dDBwL",
        "outputId": "199e0b16-a0d5-4153-e0a2-6873bb2d4d3f"
      },
      "source": [
        "df"
      ],
      "execution_count": 15,
      "outputs": [
        {
          "output_type": "execute_result",
          "data": {
            "text/html": [
              "<div>\n",
              "<style scoped>\n",
              "    .dataframe tbody tr th:only-of-type {\n",
              "        vertical-align: middle;\n",
              "    }\n",
              "\n",
              "    .dataframe tbody tr th {\n",
              "        vertical-align: top;\n",
              "    }\n",
              "\n",
              "    .dataframe thead th {\n",
              "        text-align: right;\n",
              "    }\n",
              "</style>\n",
              "<table border=\"1\" class=\"dataframe\">\n",
              "  <thead>\n",
              "    <tr style=\"text-align: right;\">\n",
              "      <th></th>\n",
              "      <th>Region</th>\n",
              "      <th>Country</th>\n",
              "      <th>Item_Type</th>\n",
              "      <th>Sales_Channel</th>\n",
              "      <th>Order_Priority</th>\n",
              "      <th>Order_Date</th>\n",
              "      <th>Order_ID</th>\n",
              "      <th>Ship_Date</th>\n",
              "      <th>Units_Sold</th>\n",
              "      <th>Unit_Price</th>\n",
              "      <th>Unit_Cost</th>\n",
              "      <th>Total_Revenue</th>\n",
              "      <th>Total_Cost</th>\n",
              "      <th>Total_Profit</th>\n",
              "    </tr>\n",
              "  </thead>\n",
              "  <tbody>\n",
              "    <tr>\n",
              "      <th>0</th>\n",
              "      <td>Australia and Oceania</td>\n",
              "      <td>Tuvalu</td>\n",
              "      <td>Baby Food</td>\n",
              "      <td>Offline</td>\n",
              "      <td>H</td>\n",
              "      <td>5/28/2010</td>\n",
              "      <td>669165933</td>\n",
              "      <td>6/27/2010</td>\n",
              "      <td>9925</td>\n",
              "      <td>255.28</td>\n",
              "      <td>159.42</td>\n",
              "      <td>2533654.00</td>\n",
              "      <td>1582243.50</td>\n",
              "      <td>951410.50</td>\n",
              "    </tr>\n",
              "    <tr>\n",
              "      <th>1</th>\n",
              "      <td>Australia and Oceania</td>\n",
              "      <td>Solomon Islands</td>\n",
              "      <td>Baby Food</td>\n",
              "      <td>Online</td>\n",
              "      <td>C</td>\n",
              "      <td>2/4/15</td>\n",
              "      <td>547995746</td>\n",
              "      <td>2/21/2015</td>\n",
              "      <td>2974</td>\n",
              "      <td>255.28</td>\n",
              "      <td>159.42</td>\n",
              "      <td>759202.72</td>\n",
              "      <td>474115.08</td>\n",
              "      <td>285087.64</td>\n",
              "    </tr>\n",
              "    <tr>\n",
              "      <th>2</th>\n",
              "      <td>Australia and Oceania</td>\n",
              "      <td>East Timor</td>\n",
              "      <td>Meat</td>\n",
              "      <td>Online</td>\n",
              "      <td>L</td>\n",
              "      <td>7/31/2012</td>\n",
              "      <td>322067916</td>\n",
              "      <td>9/11/12</td>\n",
              "      <td>5908</td>\n",
              "      <td>421.89</td>\n",
              "      <td>364.69</td>\n",
              "      <td>2492526.12</td>\n",
              "      <td>2154588.52</td>\n",
              "      <td>337937.60</td>\n",
              "    </tr>\n",
              "    <tr>\n",
              "      <th>3</th>\n",
              "      <td>Australia and Oceania</td>\n",
              "      <td>New Zealand</td>\n",
              "      <td>Fruits</td>\n",
              "      <td>Online</td>\n",
              "      <td>H</td>\n",
              "      <td>9/8/14</td>\n",
              "      <td>142278373</td>\n",
              "      <td>10/4/14</td>\n",
              "      <td>2187</td>\n",
              "      <td>9.33</td>\n",
              "      <td>6.92</td>\n",
              "      <td>20404.71</td>\n",
              "      <td>15134.04</td>\n",
              "      <td>5270.67</td>\n",
              "    </tr>\n",
              "    <tr>\n",
              "      <th>4</th>\n",
              "      <td>Australia and Oceania</td>\n",
              "      <td>Kiribati</td>\n",
              "      <td>Fruits</td>\n",
              "      <td>Online</td>\n",
              "      <td>M</td>\n",
              "      <td>10/13/2014</td>\n",
              "      <td>347140347</td>\n",
              "      <td>11/10/14</td>\n",
              "      <td>5398</td>\n",
              "      <td>9.33</td>\n",
              "      <td>6.92</td>\n",
              "      <td>50363.34</td>\n",
              "      <td>37354.16</td>\n",
              "      <td>13009.18</td>\n",
              "    </tr>\n",
              "    <tr>\n",
              "      <th>5</th>\n",
              "      <td>Australia and Oceania</td>\n",
              "      <td>Australia</td>\n",
              "      <td>Office Supplies</td>\n",
              "      <td>Online</td>\n",
              "      <td>C</td>\n",
              "      <td>10/27/2015</td>\n",
              "      <td>158535134</td>\n",
              "      <td>11/25/2015</td>\n",
              "      <td>2924</td>\n",
              "      <td>651.21</td>\n",
              "      <td>524.96</td>\n",
              "      <td>1904138.04</td>\n",
              "      <td>1534983.04</td>\n",
              "      <td>369155.00</td>\n",
              "    </tr>\n",
              "    <tr>\n",
              "      <th>6</th>\n",
              "      <td>Australia and Oceania</td>\n",
              "      <td>Fiji</td>\n",
              "      <td>Clothes</td>\n",
              "      <td>Offline</td>\n",
              "      <td>C</td>\n",
              "      <td>6/30/2010</td>\n",
              "      <td>647876489</td>\n",
              "      <td>8/1/10</td>\n",
              "      <td>9905</td>\n",
              "      <td>109.28</td>\n",
              "      <td>35.84</td>\n",
              "      <td>1082418.40</td>\n",
              "      <td>354995.20</td>\n",
              "      <td>727423.20</td>\n",
              "    </tr>\n",
              "    <tr>\n",
              "      <th>7</th>\n",
              "      <td>Australia and Oceania</td>\n",
              "      <td>Australia</td>\n",
              "      <td>Cereal</td>\n",
              "      <td>Offline</td>\n",
              "      <td>H</td>\n",
              "      <td>6/9/13</td>\n",
              "      <td>450563752</td>\n",
              "      <td>7/2/13</td>\n",
              "      <td>682</td>\n",
              "      <td>205.70</td>\n",
              "      <td>117.11</td>\n",
              "      <td>140287.40</td>\n",
              "      <td>79869.02</td>\n",
              "      <td>60418.38</td>\n",
              "    </tr>\n",
              "    <tr>\n",
              "      <th>8</th>\n",
              "      <td>Australia and Oceania</td>\n",
              "      <td>Federated States of Micronesia</td>\n",
              "      <td>Beverages</td>\n",
              "      <td>Online</td>\n",
              "      <td>C</td>\n",
              "      <td>10/28/2014</td>\n",
              "      <td>217221009</td>\n",
              "      <td>11/15/2014</td>\n",
              "      <td>9379</td>\n",
              "      <td>47.45</td>\n",
              "      <td>31.79</td>\n",
              "      <td>445033.55</td>\n",
              "      <td>298158.41</td>\n",
              "      <td>146875.14</td>\n",
              "    </tr>\n",
              "    <tr>\n",
              "      <th>9</th>\n",
              "      <td>Australia and Oceania</td>\n",
              "      <td>Samoa</td>\n",
              "      <td>Cosmetics</td>\n",
              "      <td>Online</td>\n",
              "      <td>H</td>\n",
              "      <td>7/20/2013</td>\n",
              "      <td>670854651</td>\n",
              "      <td>8/7/13</td>\n",
              "      <td>9654</td>\n",
              "      <td>437.20</td>\n",
              "      <td>263.33</td>\n",
              "      <td>4220728.80</td>\n",
              "      <td>2542187.82</td>\n",
              "      <td>1678540.98</td>\n",
              "    </tr>\n",
              "    <tr>\n",
              "      <th>10</th>\n",
              "      <td>Australia and Oceania</td>\n",
              "      <td>Australia</td>\n",
              "      <td>Beverages</td>\n",
              "      <td>Offline</td>\n",
              "      <td>H</td>\n",
              "      <td>7/7/14</td>\n",
              "      <td>240470397</td>\n",
              "      <td>7/11/14</td>\n",
              "      <td>9389</td>\n",
              "      <td>47.45</td>\n",
              "      <td>31.79</td>\n",
              "      <td>445508.05</td>\n",
              "      <td>298476.31</td>\n",
              "      <td>147031.74</td>\n",
              "    </tr>\n",
              "  </tbody>\n",
              "</table>\n",
              "</div>"
            ],
            "text/plain": [
              "                   Region  ... Total_Profit\n",
              "0   Australia and Oceania  ...    951410.50\n",
              "1   Australia and Oceania  ...    285087.64\n",
              "2   Australia and Oceania  ...    337937.60\n",
              "3   Australia and Oceania  ...      5270.67\n",
              "4   Australia and Oceania  ...     13009.18\n",
              "5   Australia and Oceania  ...    369155.00\n",
              "6   Australia and Oceania  ...    727423.20\n",
              "7   Australia and Oceania  ...     60418.38\n",
              "8   Australia and Oceania  ...    146875.14\n",
              "9   Australia and Oceania  ...   1678540.98\n",
              "10  Australia and Oceania  ...    147031.74\n",
              "\n",
              "[11 rows x 14 columns]"
            ]
          },
          "metadata": {},
          "execution_count": 15
        }
      ]
    },
    {
      "cell_type": "code",
      "metadata": {
        "id": "bi6qXIozvCZZ",
        "colab": {
          "base_uri": "https://localhost:8080/"
        },
        "outputId": "462dc85f-6b2b-4871-bc8c-87502c0f04e3"
      },
      "source": [
        "maxValues = df['Total_Profit'].max()\n",
        "print(maxValues)"
      ],
      "execution_count": 16,
      "outputs": [
        {
          "output_type": "stream",
          "name": "stdout",
          "text": [
            "1678540.98\n"
          ]
        }
      ]
    },
    {
      "cell_type": "code",
      "metadata": {
        "id": "N9z6JIGDvUgg",
        "colab": {
          "base_uri": "https://localhost:8080/"
        },
        "outputId": "235865c3-d823-4ad7-e54b-04e34f0fbea0"
      },
      "source": [
        "maxValues = df['Total_Profit'].min()\n",
        "print(maxValues)"
      ],
      "execution_count": 17,
      "outputs": [
        {
          "output_type": "stream",
          "name": "stdout",
          "text": [
            "5270.67\n"
          ]
        }
      ]
    },
    {
      "cell_type": "code",
      "metadata": {
        "id": "-Pi3VK6zvcqH",
        "colab": {
          "base_uri": "https://localhost:8080/"
        },
        "outputId": "5b59422e-ee9f-4da8-dd4c-dbe19e9eca3e"
      },
      "source": [
        "maxValues = df['Total_Profit'].mean()\n",
        "print(maxValues)"
      ],
      "execution_count": 18,
      "outputs": [
        {
          "output_type": "stream",
          "name": "stdout",
          "text": [
            "429287.27545454545\n"
          ]
        }
      ]
    },
    {
      "cell_type": "code",
      "metadata": {
        "id": "iRAcr9XZ0fDq"
      },
      "source": [
        "import pandas as pd\n",
        "import matplotlib.pyplot as plt"
      ],
      "execution_count": 19,
      "outputs": []
    },
    {
      "cell_type": "code",
      "metadata": {
        "colab": {
          "base_uri": "https://localhost:8080/",
          "height": 693
        },
        "id": "oZnPyyjj8axT",
        "outputId": "cf0a31b3-0725-4bbe-c16d-fb9375014357"
      },
      "source": [
        "plt.figure(figsize= (19,11))\n",
        "plt.xlabel('CONUTRY')\n",
        "plt.ylabel('TOTAL PROFIT')\n",
        "plt.title('PROFITS IN THE AUSTRALIA AND OCEANIA REGION')\n",
        "plt.legend\n",
        "plt.bar(money.Country, money.Total_Profit)"
      ],
      "execution_count": 24,
      "outputs": [
        {
          "output_type": "execute_result",
          "data": {
            "text/plain": [
              "<BarContainer object of 11 artists>"
            ]
          },
          "metadata": {},
          "execution_count": 24
        },
        {
          "output_type": "display_data",
          "data": {
            "image/png": "[encoded data removed]",
            "text/plain": [
              "<Figure size 1368x792 with 1 Axes>"
            ]
          },
          "metadata": {
            "needs_background": "light"
          }
        }
      ]
    },
    {
      "cell_type": "code",
      "metadata": {
        "id": "pYwHaxJluqVM"
      },
      "source": [
        ""
      ],
      "execution_count": null,
      "outputs": []
    },
    {
      "cell_type": "code",
      "metadata": {
        "id": "G2ZLzHkweA8m"
      },
      "source": [
        ""
      ],
      "execution_count": null,
      "outputs": []
    }
  ]
}