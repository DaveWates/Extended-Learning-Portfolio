{
  "nbformat": 4,
  "nbformat_minor": 0,
  "metadata": {
    "colab": {
      "name": "Question2.ipynb",
      "provenance": [],
      "authorship_tag": "ABX9TyM6wcNNWukIv7DQn4fDyV1N",
      "include_colab_link": true
    },
    "kernelspec": {
      "name": "python3",
      "display_name": "Python 3"
    },
    "language_info": {
      "name": "python"
    }
  },
  "cells": [
    {
      "cell_type": "markdown",
      "metadata": {
        "id": "view-in-github",
        "colab_type": "text"
      },
      "source": [
        "<a href=\"https://colab.research.google.com/github/DaveWates/Extended-Learning-Portfolio/blob/main/Question2.ipynb\" target=\"_parent\"><img src=\"https://colab.research.google.com/assets/colab-badge.svg\" alt=\"Open In Colab\"/></a>"
      ]
    },
    {
      "cell_type": "code",
      "metadata": {
        "colab": {
          "base_uri": "https://localhost:8080/"
        },
        "id": "C6STXKnzkBOV",
        "outputId": "b55047b6-84c5-44a2-9ed5-ab0bbd7d00c6"
      },
      "source": [
        "# We are generating the required URL from the input\n",
        "# of a search term and a template.\n",
        "search_term = ('Computer screen')\n",
        "template = ('https://www.amazon.in/s?k={}&ref=nb_sb_noss_2')\n",
        "\"\"\"We have called it a template as this word seems most\n",
        "appropriate, however it can be called anything\n",
        "it is merely a container to hold a value. By placing curly\n",
        "braces in the URL we are creating a dictionary.\n",
        "A dictionary is a data structure that maps one value to another\n",
        "In this case the search term.\n",
        "\"\"\"\n",
        "\n",
        "get_url(search_term, template)\n",
        "search_term = search_term.replace(' ', '+')\n",
        "\"\"\"We are using this line to replace any spaces that may exist in the \n",
        "search term as these will not be recognised as there are no spaces in\n",
        "URLs. Given no spaces allowed, the addition sign is used for a multi \n",
        "word search term\"\"\"\n",
        "url = template.format(search_term)\n",
        "# The format() method formats the specified value(s) and insert them\n",
        "# inside the string's placeholder\n",
        "url += '&page={}'\n",
        "# Query string which assigns values to specified parameters like page\n",
        "# of theURL\n",
        "print(url)\n",
        "\n"
      ],
      "execution_count": null,
      "outputs": [
        {
          "output_type": "stream",
          "name": "stdout",
          "text": [
            "https://www.amazon.in/s?k=Computer+screen&ref=nb_sb_noss_2&page={}\n"
          ]
        }
      ]
    },
    {
      "cell_type": "markdown",
      "metadata": {
        "id": "PRf8_zEh2Kg6"
      },
      "source": [
        "***FINAL PHASE:***\n",
        "Once tested for operability we covert into a function which then can be called as required."
      ]
    },
    {
      "cell_type": "code",
      "metadata": {
        "id": "Y--Y2gUY19qG"
      },
      "source": [
        "def get_url(search_term, template): \n",
        "  search_term = search_term.replace(' ', '+') \n",
        "  url = template.format(search_term)\n",
        "  url += '&page={}'\n",
        "  return url"
      ],
      "execution_count": 35,
      "outputs": []
    }
  ]
}