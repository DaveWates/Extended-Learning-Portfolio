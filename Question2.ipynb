{
  "nbformat": 4,
  "nbformat_minor": 0,
  "metadata": {
    "colab": {
      "name": "Question2.ipynb",
      "provenance": [],
      "collapsed_sections": [],
      "authorship_tag": "ABX9TyOrysY/nEb1tgr53rl1tDt9",
      "include_colab_link": true
    },
    "kernelspec": {
      "name": "python3",
      "display_name": "Python 3"
    },
    "language_info": {
      "name": "python"
    }
  },
  "cells": [
    {
      "cell_type": "markdown",
      "metadata": {
        "id": "view-in-github",
        "colab_type": "text"
      },
      "source": [
        "<a href=\"https://colab.research.google.com/github/DaveWates/Extended-Learning-Portfolio/blob/main/Question2.ipynb\" target=\"_parent\"><img src=\"https://colab.research.google.com/assets/colab-badge.svg\" alt=\"Open In Colab\"/></a>"
      ]
    },
    {
      "cell_type": "markdown",
      "metadata": {
        "id": "jYbmh4-s9LxK"
      },
      "source": [
        "***Question2: A comment is an explanation or annotation in the source code of a computer program. Well commented functions are helpful to other programmers to understand the code better. The following function has no comments. Add some comments that explain the purpose and actions of the code in the following method.***"
      ]
    },
    {
      "cell_type": "code",
      "metadata": {
        "colab": {
          "base_uri": "https://localhost:8080/"
        },
        "id": "C6STXKnzkBOV",
        "outputId": "5892065a-31fa-46de-d4ad-0cb8fee8b898"
      },
      "source": [
        "# We are generating the required URL from the input\n",
        "# of a search term and a selected template.\n",
        "search_term = ('Computer screen')\n",
        "template = ('https://www.amazon.in/s?k={}&ref=nb_sb_noss_2')\n",
        "\"\"\"We have called it a template as this word seems most\n",
        "appropriate, however it can be called anything\n",
        "it is merely a container to hold a value. By placing curly\n",
        "braces in the URL we are creating a dictionary.\n",
        "A dictionary is a data structure that maps one value to another\n",
        "In this case the search term.\n",
        "\"\"\"\n",
        "\n",
        "get_url(search_term, template)\n",
        "search_term = search_term.replace(' ', '+')\n",
        "\"\"\"We are using this line to replace any spaces that may exist in the \n",
        "search term as these will not be recognised as there are no spaces in\n",
        "URLs. Given no spaces allowed, the addition sign is used for a multi \n",
        "word search term\"\"\"\n",
        "url = template.format(search_term)\n",
        "# The format() method formats the specified value(s) and insert them\n",
        "# inside the string's placeholder\n",
        "url += '&page={}'\n",
        "# Query string which assigns values to specified parameters like page\n",
        "# of theURL\n",
        "print(url)\n",
        "\n"
      ],
      "execution_count": 2,
      "outputs": [
        {
          "output_type": "stream",
          "name": "stdout",
          "text": [
            "https://www.amazon.in/s?k=Computer+screen&ref=nb_sb_noss_2&page={}\n"
          ]
        }
      ]
    },
    {
      "cell_type": "markdown",
      "metadata": {
        "id": "PRf8_zEh2Kg6"
      },
      "source": [
        "***FINAL PHASE:***\n",
        "Once tested for operability we covert into a function which then can be called as required."
      ]
    },
    {
      "cell_type": "code",
      "metadata": {
        "id": "Y--Y2gUY19qG"
      },
      "source": [
        "def get_url(search_term, template): \n",
        "  search_term = search_term.replace(' ', '+') \n",
        "  url = template.format(search_term)\n",
        "  url += '&page={}'\n",
        "  return url"
      ],
      "execution_count": 3,
      "outputs": []
    },
    {
      "cell_type": "code",
      "metadata": {
        "colab": {
          "base_uri": "https://localhost:8080/"
        },
        "id": "szc-Nrgk9qR_",
        "outputId": "1c619e63-0afd-4a99-8e7c-9aac052d37ac"
      },
      "source": [
        "template = ('https://www.amazon.in/s?k={}&ref=nb_sb_noss_2')\n",
        "search_term = input('what item would you like to search for? ')\n",
        "url = get_url(search_term, template)\n",
        "print ('Please click on the link', url)"
      ],
      "execution_count": 5,
      "outputs": [
        {
          "output_type": "stream",
          "name": "stdout",
          "text": [
            "what item would you like to search for? Computer Screens\n",
            "Please click on the link https://www.amazon.in/s?k=Computer+Screens&ref=nb_sb_noss_2&page={}\n"
          ]
        }
      ]
    }
  ]
}