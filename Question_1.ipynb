{
  "nbformat": 4,
  "nbformat_minor": 0,
  "metadata": {
    "colab": {
      "name": "Question 1",
      "provenance": [],
      "authorship_tag": "ABX9TyO8XcjZHUzDX8UDqSTjp8iJ",
      "include_colab_link": true
    },
    "kernelspec": {
      "name": "python3",
      "display_name": "Python 3"
    },
    "language_info": {
      "name": "python"
    }
  },
  "cells": [
    {
      "cell_type": "markdown",
      "metadata": {
        "id": "view-in-github",
        "colab_type": "text"
      },
      "source": [
        "<a href=\"https://colab.research.google.com/github/DaveWates/Extended-Learning-Portfolio/blob/main/Question_1.ipynb\" target=\"_parent\"><img src=\"https://colab.research.google.com/assets/colab-badge.svg\" alt=\"Open In Colab\"/></a>"
      ]
    },
    {
      "cell_type": "markdown",
      "metadata": {
        "id": "g5WhafyRSluC"
      },
      "source": [
        "***TO DEMONSTRATE THE INITIAL PROBLEMS:***"
      ]
    },
    {
      "cell_type": "code",
      "metadata": {
        "colab": {
          "base_uri": "https://localhost:8080/",
          "height": 249
        },
        "id": "X0LYJiUuqnJm",
        "outputId": "b92ae414-3ecb-4b76-fb3f-329c25eae978"
      },
      "source": [
        "# Take the formula calculated in the notes\n",
        "# and try to get a result\n",
        "#Set it up as a user input\n",
        "\n",
        "USD = input('What is the amount of US dollars you wish to convert? ')\n",
        "AUD = (USD) * 1.38\n",
        "print('The amount in Australia dollar is -', '$',(AUD))\n",
        "\n"
      ],
      "execution_count": 30,
      "outputs": [
        {
          "name": "stdout",
          "output_type": "stream",
          "text": [
            "What is the amount of US dollars you wish to convert? 50.22\n"
          ]
        },
        {
          "output_type": "error",
          "ename": "TypeError",
          "evalue": "ignored",
          "traceback": [
            "\u001b[0;31m---------------------------------------------------------------------------\u001b[0m",
            "\u001b[0;31mTypeError\u001b[0m                                 Traceback (most recent call last)",
            "\u001b[0;32m<ipython-input-30-b9fa8673f211>\u001b[0m in \u001b[0;36m<module>\u001b[0;34m()\u001b[0m\n\u001b[1;32m      4\u001b[0m \u001b[0;34m\u001b[0m\u001b[0m\n\u001b[1;32m      5\u001b[0m \u001b[0mUSD\u001b[0m \u001b[0;34m=\u001b[0m \u001b[0minput\u001b[0m\u001b[0;34m(\u001b[0m\u001b[0;34m'What is the amount of US dollars you wish to convert? '\u001b[0m\u001b[0;34m)\u001b[0m\u001b[0;34m\u001b[0m\u001b[0;34m\u001b[0m\u001b[0m\n\u001b[0;32m----> 6\u001b[0;31m \u001b[0mAUD\u001b[0m \u001b[0;34m=\u001b[0m \u001b[0;34m(\u001b[0m\u001b[0mUSD\u001b[0m\u001b[0;34m)\u001b[0m \u001b[0;34m*\u001b[0m \u001b[0;36m1.38\u001b[0m\u001b[0;34m\u001b[0m\u001b[0;34m\u001b[0m\u001b[0m\n\u001b[0m\u001b[1;32m      7\u001b[0m \u001b[0mprint\u001b[0m\u001b[0;34m(\u001b[0m\u001b[0;34m'The amount in Australia dollar is -'\u001b[0m\u001b[0;34m,\u001b[0m \u001b[0;34m'$'\u001b[0m\u001b[0;34m,\u001b[0m\u001b[0;34m(\u001b[0m\u001b[0mAUD\u001b[0m\u001b[0;34m)\u001b[0m\u001b[0;34m)\u001b[0m\u001b[0;34m\u001b[0m\u001b[0;34m\u001b[0m\u001b[0m\n\u001b[1;32m      8\u001b[0m \u001b[0;34m\u001b[0m\u001b[0m\n",
            "\u001b[0;31mTypeError\u001b[0m: can't multiply sequence by non-int of type 'float'"
          ]
        }
      ]
    },
    {
      "cell_type": "markdown",
      "metadata": {
        "id": "tMdK46jnSz9R"
      },
      "source": [
        "***TO FIX CONVERT INPUT VALUE TO FLOAT***"
      ]
    },
    {
      "cell_type": "code",
      "metadata": {
        "colab": {
          "base_uri": "https://localhost:8080/"
        },
        "id": "RiUaGDtwRIOn",
        "outputId": "d2a85208-b54b-420b-ffc3-ca926e82c134"
      },
      "source": [
        "USD = input('What is the amount of US dollars you wish to convert? ')\n",
        "AUD = float(USD) * 1.38\n",
        "print('The amount in Australia dollar is -', '$', (AUD))\n"
      ],
      "execution_count": 29,
      "outputs": [
        {
          "output_type": "stream",
          "name": "stdout",
          "text": [
            "What is the amount of US dollars you wish to convert? 50.72\n",
            "The amount in Australia dollar is - $ 69.99359999999999\n"
          ]
        }
      ]
    },
    {
      "cell_type": "markdown",
      "metadata": {
        "id": "sVA5WWglSgcx"
      },
      "source": [
        "***NOW THE ANSWER IS CORRECT HOWEVER TOO MANY DECIMAL PLACES***"
      ]
    },
    {
      "cell_type": "code",
      "metadata": {
        "colab": {
          "base_uri": "https://localhost:8080/"
        },
        "id": "Had57Bk4SFVp",
        "outputId": "6463ace5-5a7a-49b6-8d11-86b93c08e664"
      },
      "source": [
        "USD = input('What is the amount of US dollars you wish to convert? ')\n",
        "AUD = float(USD) * 1.38\n",
        "print('The amount in Australia dollar is -', '$', round(AUD,2))"
      ],
      "execution_count": 31,
      "outputs": [
        {
          "output_type": "stream",
          "name": "stdout",
          "text": [
            "What is the amount of US dollars you wish to convert? 50.72\n",
            "The amount in Australia dollar is - $ 69.99\n"
          ]
        }
      ]
    },
    {
      "cell_type": "markdown",
      "metadata": {
        "id": "_YS73FVTTiXY"
      },
      "source": [
        "***CONVERT THIS TO A FUNCTION***"
      ]
    },
    {
      "cell_type": "code",
      "metadata": {
        "colab": {
          "base_uri": "https://localhost:8080/"
        },
        "id": "CaeJ1yQD2GvY",
        "outputId": "51f1d83a-dfcc-4119-d82e-0f3bb33beb8a"
      },
      "source": [
        "def Conversion (USD):\n",
        " AUD = float(USD) * 1.38\n",
        " return round(AUD,2)\n",
        "\n",
        "(USD)= input ('What is the amount of US dollars you wish to convert? ')\n",
        "Conv = Conversion(USD)\n",
        "print('The amount in Australia dollar is -', '$',(Conv))"
      ],
      "execution_count": 35,
      "outputs": [
        {
          "output_type": "stream",
          "name": "stdout",
          "text": [
            "What is the amount of US dollars you wish to convert? 123.23\n",
            "The amount in Australia dollar is - $ 170.06\n"
          ]
        }
      ]
    },
    {
      "cell_type": "markdown",
      "metadata": {
        "id": "Byemu-VfTvLC"
      },
      "source": [
        "***WHAT IF THE USER ENTERS A STRING***\n"
      ]
    },
    {
      "cell_type": "code",
      "metadata": {
        "colab": {
          "base_uri": "https://localhost:8080/",
          "height": 351
        },
        "id": "AzWk3k6EUBMF",
        "outputId": "7902211f-af53-4ecb-a8de-f7e69c0efde3"
      },
      "source": [
        "def Conversion (USD):\n",
        " AUD = float(USD) * 1.38\n",
        " return round(AUD,2)\n",
        "\n",
        "(USD)= input ('What is the amount of US dollars you wish to convert? ')\n",
        "Conv = Conversion(USD)\n",
        "print('The amount in Australia dollar is -', '$',(Conv))"
      ],
      "execution_count": 33,
      "outputs": [
        {
          "name": "stdout",
          "output_type": "stream",
          "text": [
            "What is the amount of US dollars you wish to convert? FIFTY\n"
          ]
        },
        {
          "output_type": "error",
          "ename": "ValueError",
          "evalue": "ignored",
          "traceback": [
            "\u001b[0;31m---------------------------------------------------------------------------\u001b[0m",
            "\u001b[0;31mValueError\u001b[0m                                Traceback (most recent call last)",
            "\u001b[0;32m<ipython-input-33-ea52db0b1cf0>\u001b[0m in \u001b[0;36m<module>\u001b[0;34m()\u001b[0m\n\u001b[1;32m      4\u001b[0m \u001b[0;34m\u001b[0m\u001b[0m\n\u001b[1;32m      5\u001b[0m \u001b[0;34m(\u001b[0m\u001b[0mUSD\u001b[0m\u001b[0;34m)\u001b[0m\u001b[0;34m=\u001b[0m \u001b[0minput\u001b[0m \u001b[0;34m(\u001b[0m\u001b[0;34m'What is the amount of US dollars you wish to convert? '\u001b[0m\u001b[0;34m)\u001b[0m\u001b[0;34m\u001b[0m\u001b[0;34m\u001b[0m\u001b[0m\n\u001b[0;32m----> 6\u001b[0;31m \u001b[0mConv\u001b[0m \u001b[0;34m=\u001b[0m \u001b[0mConversion\u001b[0m\u001b[0;34m(\u001b[0m\u001b[0mUSD\u001b[0m\u001b[0;34m)\u001b[0m\u001b[0;34m\u001b[0m\u001b[0;34m\u001b[0m\u001b[0m\n\u001b[0m\u001b[1;32m      7\u001b[0m \u001b[0mprint\u001b[0m\u001b[0;34m(\u001b[0m\u001b[0;34m'The amount in Australia dollar is -'\u001b[0m\u001b[0;34m,\u001b[0m \u001b[0;34m'$'\u001b[0m\u001b[0;34m,\u001b[0m\u001b[0;34m(\u001b[0m\u001b[0mConv\u001b[0m\u001b[0;34m)\u001b[0m\u001b[0;34m)\u001b[0m\u001b[0;34m\u001b[0m\u001b[0;34m\u001b[0m\u001b[0m\n",
            "\u001b[0;32m<ipython-input-33-ea52db0b1cf0>\u001b[0m in \u001b[0;36mConversion\u001b[0;34m(USD)\u001b[0m\n\u001b[1;32m      1\u001b[0m \u001b[0;32mdef\u001b[0m \u001b[0mConversion\u001b[0m \u001b[0;34m(\u001b[0m\u001b[0mUSD\u001b[0m\u001b[0;34m)\u001b[0m\u001b[0;34m:\u001b[0m\u001b[0;34m\u001b[0m\u001b[0;34m\u001b[0m\u001b[0m\n\u001b[0;32m----> 2\u001b[0;31m  \u001b[0mAUD\u001b[0m \u001b[0;34m=\u001b[0m \u001b[0mfloat\u001b[0m\u001b[0;34m(\u001b[0m\u001b[0mUSD\u001b[0m\u001b[0;34m)\u001b[0m \u001b[0;34m*\u001b[0m \u001b[0;36m1.38\u001b[0m\u001b[0;34m\u001b[0m\u001b[0;34m\u001b[0m\u001b[0m\n\u001b[0m\u001b[1;32m      3\u001b[0m  \u001b[0;32mreturn\u001b[0m \u001b[0mround\u001b[0m\u001b[0;34m(\u001b[0m\u001b[0mAUD\u001b[0m\u001b[0;34m,\u001b[0m\u001b[0;36m2\u001b[0m\u001b[0;34m)\u001b[0m\u001b[0;34m\u001b[0m\u001b[0;34m\u001b[0m\u001b[0m\n\u001b[1;32m      4\u001b[0m \u001b[0;34m\u001b[0m\u001b[0m\n\u001b[1;32m      5\u001b[0m \u001b[0;34m(\u001b[0m\u001b[0mUSD\u001b[0m\u001b[0;34m)\u001b[0m\u001b[0;34m=\u001b[0m \u001b[0minput\u001b[0m \u001b[0;34m(\u001b[0m\u001b[0;34m'What is the amount of US dollars you wish to convert? '\u001b[0m\u001b[0;34m)\u001b[0m\u001b[0;34m\u001b[0m\u001b[0;34m\u001b[0m\u001b[0m\n",
            "\u001b[0;31mValueError\u001b[0m: could not convert string to float: 'FIFTY'"
          ]
        }
      ]
    },
    {
      "cell_type": "markdown",
      "metadata": {
        "id": "iJLof4yNUJ8t"
      },
      "source": [
        "***MODIFY FUNCTION TO USE TRY/EXCEPT***"
      ]
    },
    {
      "cell_type": "code",
      "metadata": {
        "colab": {
          "base_uri": "https://localhost:8080/"
        },
        "id": "VOgOvbFb-BQ8",
        "outputId": "417c574c-69a7-4c79-85b8-93d12ce2f7f6"
      },
      "source": [
        "def Conversion (USD):\n",
        "  try:\n",
        "   AUD = float(USD) * 1.38\n",
        "   formatted_string = \"{:.0f}\".format(AUD)\n",
        "   float_value = float(formatted_string)\n",
        "   return round(AUD,2)\n",
        "  except ValueError:\n",
        "    print(\"Please check that your enry contains only numerical values\")\n",
        "    return 0\n",
        "\n",
        "(USD)= input ('What is the amount of US dollars you wish to convert? ')\n",
        "Conv = Conversion(USD)\n",
        "print('The amount in Australia dollar is -', '$',(Conv))"
      ],
      "execution_count": 34,
      "outputs": [
        {
          "output_type": "stream",
          "name": "stdout",
          "text": [
            "What is the amount of US dollars you wish to convert? FIFTY\n",
            "Please check that your enry contains only numerical values\n",
            "The amount in Australia dollar is - $ 0\n"
          ]
        }
      ]
    }
  ]
}