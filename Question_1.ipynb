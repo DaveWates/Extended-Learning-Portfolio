{
  "nbformat": 4,
  "nbformat_minor": 0,
  "metadata": {
    "colab": {
      "name": "Question 1",
      "provenance": [],
      "authorship_tag": "ABX9TyPjmNMZkVfztlmhDw2JZf+/",
      "include_colab_link": true
    },
    "kernelspec": {
      "name": "python3",
      "display_name": "Python 3"
    },
    "language_info": {
      "name": "python"
    }
  },
  "cells": [
    {
      "cell_type": "markdown",
      "metadata": {
        "id": "view-in-github",
        "colab_type": "text"
      },
      "source": [
        "<a href=\"https://colab.research.google.com/github/DaveWates/Extended-Learning-Portfolio/blob/main/Question_1.ipynb\" target=\"_parent\"><img src=\"https://colab.research.google.com/assets/colab-badge.svg\" alt=\"Open In Colab\"/></a>"
      ]
    },
    {
      "cell_type": "code",
      "metadata": {
        "colab": {
          "base_uri": "https://localhost:8080/"
        },
        "id": "X0LYJiUuqnJm",
        "outputId": "2f7f4425-6dc4-4db8-b6c0-d23ded96fc28"
      },
      "source": [
        "USD = input('What is the amount of US dollars you wish to convert? ')\n",
        "AUD = float(USD) * 1.38\n",
        "\"{:.1f}\".format(AUD)\n",
        "float_value = float(formatted_string)\n",
        "print('The amount in Australia dollar is -', '$',round(AUD,2))\n",
        "\n"
      ],
      "execution_count": 13,
      "outputs": [
        {
          "output_type": "stream",
          "name": "stdout",
          "text": [
            "What is the amount of US dollars you wish to convert? 51.72\n",
            "The amount in Australia dollar is - $ 71.37\n"
          ]
        }
      ]
    },
    {
      "cell_type": "markdown",
      "metadata": {
        "id": "Kj6tFBmF9U99"
      },
      "source": [
        ""
      ]
    },
    {
      "cell_type": "code",
      "metadata": {
        "colab": {
          "base_uri": "https://localhost:8080/"
        },
        "id": "CaeJ1yQD2GvY",
        "outputId": "441d10ef-f48b-44b1-8cf4-800aca9975a2"
      },
      "source": [
        "def Conversion (USD):\n",
        " AUD = float(USD) * 1.38\n",
        " formatted_string = \"{:.0f}\".format(AUD)\n",
        " float_value = float(formatted_string)\n",
        " return round(AUD,2)\n",
        "\n",
        "(USD)= input ('What is the amount of US dollars you wish to convert? ')\n",
        "Conv = Conversion(USD)\n",
        "print('The amount in Australia dollar is -', '$',(Conv))"
      ],
      "execution_count": 17,
      "outputs": [
        {
          "output_type": "stream",
          "name": "stdout",
          "text": [
            "What is the amount of US dollars you wish to convert? 1515.78\n",
            "The amount in Australia dollar is - $ 2091.78\n"
          ]
        }
      ]
    },
    {
      "cell_type": "code",
      "metadata": {
        "colab": {
          "base_uri": "https://localhost:8080/"
        },
        "id": "VOgOvbFb-BQ8",
        "outputId": "100d52e2-d78d-4d6c-b8ba-a2446da3f798"
      },
      "source": [
        "def Conversion (USD):\n",
        "  try:\n",
        "   AUD = float(USD) * 1.38\n",
        "   formatted_string = \"{:.0f}\".format(AUD)\n",
        "   float_value = float(formatted_string)\n",
        "   return round(AUD,2)\n",
        "  except ValueError:\n",
        "    print(\"Please check that your enry contains only numerical values\")\n",
        "    return 0\n",
        "\n",
        "(USD)= input ('What is the amount of US dollars you wish to convert? ')\n",
        "Conv = Conversion(USD)\n",
        "print('The amount in Australia dollar is -', '$',(Conv))"
      ],
      "execution_count": 21,
      "outputs": [
        {
          "output_type": "stream",
          "name": "stdout",
          "text": [
            "What is the amount of US dollars you wish to convert? 1555.25\n",
            "The amount in Australia dollar is - $ 2146.24\n"
          ]
        }
      ]
    }
  ]
}